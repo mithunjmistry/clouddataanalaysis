{
 "cells": [
  {
   "cell_type": "markdown",
   "metadata": {},
   "source": [
    "#### Import necessary libraries for Data Cleaning"
   ]
  },
  {
   "cell_type": "code",
   "execution_count": 106,
   "metadata": {
    "collapsed": true
   },
   "outputs": [],
   "source": [
    "import numpy as np\n",
    "import pandas as pd\n",
    "import seaborn as sns\n",
    "%matplotlib inline"
   ]
  },
  {
   "cell_type": "code",
   "execution_count": 107,
   "metadata": {
    "collapsed": true
   },
   "outputs": [],
   "source": [
    "df=pd.read_csv(\"F:\\Downloads\\h1b_kaggle.csv\")"
   ]
  },
  {
   "cell_type": "code",
   "execution_count": 108,
   "metadata": {
    "collapsed": true
   },
   "outputs": [],
   "source": [
    "df = df[(df.CASE_STATUS == \"CERTIFIED\") | (df.CASE_STATUS == \"DENIED\")] #Keep only certified and denied cases"
   ]
  },
  {
   "cell_type": "code",
   "execution_count": 109,
   "metadata": {
    "collapsed": true
   },
   "outputs": [],
   "source": [
    "df.WORKSITE = df.WORKSITE.apply(lambda m: m.split(\",\")[1].strip()) #Strip cities and keep only states in worksite"
   ]
  },
  {
   "cell_type": "markdown",
   "metadata": {},
   "source": [
    "#### Drop unnecessary columns "
   ]
  },
  {
   "cell_type": "code",
   "execution_count": 110,
   "metadata": {
    "collapsed": true
   },
   "outputs": [],
   "source": [
    "df.drop('lat', axis=1, inplace=True)\n",
    "df.drop('lon', axis=1, inplace=True)"
   ]
  },
  {
   "cell_type": "code",
   "execution_count": 111,
   "metadata": {
    "collapsed": true
   },
   "outputs": [],
   "source": [
    "df.drop('Unnamed: 0', axis=1, inplace=True)"
   ]
  },
  {
   "cell_type": "markdown",
   "metadata": {},
   "source": [
    "#### Keep only finite values"
   ]
  },
  {
   "cell_type": "code",
   "execution_count": 112,
   "metadata": {
    "collapsed": true
   },
   "outputs": [],
   "source": [
    "df = df[np.isfinite(df['PREVAILING_WAGE'])]\n",
    "df = df[df['WORKSITE'] != \"NA\"]\n",
    "df = df[df['FULL_TIME_POSITION'].notnull()]\n",
    "df = df[df['JOB_TITLE'].notnull()]\n",
    "df = df[df['SOC_NAME'].notnull()]\n",
    "df = df[df['EMPLOYER_NAME'].notnull()]"
   ]
  },
  {
   "cell_type": "code",
   "execution_count": 113,
   "metadata": {
    "collapsed": true
   },
   "outputs": [],
   "source": [
    "df = pd.get_dummies(df, columns=['FULL_TIME_POSITION'])"
   ]
  },
  {
   "cell_type": "code",
   "execution_count": 114,
   "metadata": {
    "collapsed": true
   },
   "outputs": [],
   "source": [
    "df['CASE_STATUS'] = df['CASE_STATUS'].map({'CERTIFIED': 1, 'DENIED': 0})"
   ]
  },
  {
   "cell_type": "code",
   "execution_count": 115,
   "metadata": {
    "collapsed": true
   },
   "outputs": [],
   "source": [
    "df['SOC_NAME'] = df['SOC_NAME'].apply(lambda x : x.strip().upper()) #Convert all to same case so Computer and COMPUTEr becomes similar"
   ]
  },
  {
   "cell_type": "code",
   "execution_count": 116,
   "metadata": {
    "collapsed": true
   },
   "outputs": [],
   "source": [
    "df.drop('EMPLOYER_NAME', axis=1, inplace=True)\n",
    "df.drop('YEAR', axis=1, inplace=True)"
   ]
  },
  {
   "cell_type": "code",
   "execution_count": 117,
   "metadata": {
    "collapsed": true
   },
   "outputs": [],
   "source": [
    "df.drop('FULL_TIME_POSITION_N', axis=1, inplace=True)"
   ]
  },
  {
   "cell_type": "code",
   "execution_count": 118,
   "metadata": {
    "collapsed": true
   },
   "outputs": [],
   "source": [
    "# SOC_CATEGORIES made after analysis\n",
    "soc_categories = {\n",
    "                    'EXECUTIVES' : ['CHIEF', 'EXECUTIVE', 'CEO', 'CFO'],\n",
    "                  'ACTOR' : ['ACTOR', 'MUSIC'],\n",
    "                  'MANAGERS' : ['MANAGER', 'MANAGER'],\n",
    "                 'SCIENTIST' : ['SCIENTIST'],\n",
    "                  'DATA' : ['DATA'],\n",
    "                 'COMPUTER' : ['PROGRAMMER, COMPUTER', 'DEVELOPER', \n",
    "                              'INFORMATION', 'SOFTWARE'],\n",
    "                  'EDUCATION' : ['EDUCATION', 'TEACHER', 'PROFESSOR',\n",
    "                                 'ENGLISH', 'LANGUAGE', 'SCHOOL'],\n",
    "                  'ENGINEER' : ['ENGINEER', 'TECHNICIAN', 'ELECTRONIC',\n",
    "                                'ELECTRICAL', 'INDUSTRIAL', 'MECHANICAL'],\n",
    "                  'PILOT' : ['PILOT'],\n",
    "                  'MEDICAL' : ['DENTIST', 'MEDICAL', 'MENTAL', 'ORTHO',\n",
    "                               'PHYSICIAN', 'RADIOLO'],\n",
    "                  'MEDICINE-OTHERS' : ['PHARMACY', 'HEALTH', 'DIET'],\n",
    "                  'DESIGNER' : ['DESIGNER'],\n",
    "                  'DETECTIVE' : ['DETECTIVE'],\n",
    "                  'BIOLOGIST' : ['BIO'],\n",
    "                  'BUSINESS' : ['BUSINESS'],\n",
    "                  'COOK' : ['COOK'],\n",
    "                  'STATISTICIAN' : ['ANALYS', 'STATISTIC'],\n",
    "                  'FINANCE' : ['FINANC', 'LOAN', 'SECURITY', 'ACCOUNTANT'],\n",
    "                  'GEOLOGIST' : ['GEO'],\n",
    "                  'SALES & MARKETING' : ['SALE', 'MARKET'],\n",
    "                 } \n",
    "\n",
    "def find_category(unknown):\n",
    "    unknown = unknown.upper()\n",
    "    for key in soc_categories:\n",
    "        for i in soc_categories[key]: \n",
    "            if(unknown.startswith(i) or unknown.find(i) != -1):\n",
    "                return key\n",
    "    return 'OTHER'\n",
    "\n",
    "df['SOC_NAME'] = df['SOC_NAME'].apply(find_category)"
   ]
  },
  {
   "cell_type": "code",
   "execution_count": 119,
   "metadata": {},
   "outputs": [
    {
     "data": {
      "text/plain": [
       "array([<matplotlib.axes._subplots.AxesSubplot object at 0x000001F414A55898>,\n",
       "       <matplotlib.axes._subplots.AxesSubplot object at 0x000001F4516A33C8>], dtype=object)"
      ]
     },
     "execution_count": 119,
     "metadata": {},
     "output_type": "execute_result"
    },
    {
     "data": {
      "image/png": "[encoded data removed]",
      "text/plain": [
       "<matplotlib.figure.Figure at 0x1f447ffb898>"
      ]
     },
     "metadata": {},
     "output_type": "display_data"
    }
   ],
   "source": [
    "#View wage w.r.t case_status\n",
    "df.hist(column='PREVAILING_WAGE', by='CASE_STATUS', bins=100,figsize=(12,4))"
   ]
  },
  {
   "cell_type": "markdown",
   "metadata": {},
   "source": [
    "#### Finding top 30 job titles"
   ]
  },
  {
   "cell_type": "code",
   "execution_count": 120,
   "metadata": {
    "collapsed": true
   },
   "outputs": [],
   "source": [
    "df['frequency_job_title'] = df.groupby('JOB_TITLE')['JOB_TITLE'].transform('count').sort_values(ascending=False)"
   ]
  },
  {
   "cell_type": "code",
   "execution_count": 121,
   "metadata": {
    "collapsed": true
   },
   "outputs": [],
   "source": [
    "df2 = df.groupby('JOB_TITLE').count().sort_values(ascending=False, by='frequency_job_title').head(30)"
   ]
  },
  {
   "cell_type": "code",
   "execution_count": 122,
   "metadata": {},
   "outputs": [
    {
     "data": {
      "text/html": [
       "<div>\n",
       "<style>\n",
       "    .dataframe thead tr:only-child th {\n",
       "        text-align: right;\n",
       "    }\n",
       "\n",
       "    .dataframe thead th {\n",
       "        text-align: left;\n",
       "    }\n",
       "\n",
       "    .dataframe tbody tr th {\n",
       "        vertical-align: top;\n",
       "    }\n",
       "</style>\n",
       "<table border=\"1\" class=\"dataframe\">\n",
       "  <thead>\n",
       "    <tr style=\"text-align: right;\">\n",
       "      <th></th>\n",
       "      <th>CASE_STATUS</th>\n",
       "      <th>SOC_NAME</th>\n",
       "      <th>PREVAILING_WAGE</th>\n",
       "      <th>WORKSITE</th>\n",
       "      <th>FULL_TIME_POSITION_Y</th>\n",
       "      <th>frequency_job_title</th>\n",
       "    </tr>\n",
       "    <tr>\n",
       "      <th>JOB_TITLE</th>\n",
       "      <th></th>\n",
       "      <th></th>\n",
       "      <th></th>\n",
       "      <th></th>\n",
       "      <th></th>\n",
       "      <th></th>\n",
       "    </tr>\n",
       "  </thead>\n",
       "  <tbody>\n",
       "    <tr>\n",
       "      <th>PROGRAMMER ANALYST</th>\n",
       "      <td>225034</td>\n",
       "      <td>225034</td>\n",
       "      <td>225034</td>\n",
       "      <td>225034</td>\n",
       "      <td>225034</td>\n",
       "      <td>225034</td>\n",
       "    </tr>\n",
       "    <tr>\n",
       "      <th>SOFTWARE ENGINEER</th>\n",
       "      <td>104669</td>\n",
       "      <td>104669</td>\n",
       "      <td>104669</td>\n",
       "      <td>104669</td>\n",
       "      <td>104669</td>\n",
       "      <td>104669</td>\n",
       "    </tr>\n",
       "    <tr>\n",
       "      <th>COMPUTER PROGRAMMER</th>\n",
       "      <td>64848</td>\n",
       "      <td>64848</td>\n",
       "      <td>64848</td>\n",
       "      <td>64848</td>\n",
       "      <td>64848</td>\n",
       "      <td>64848</td>\n",
       "    </tr>\n",
       "    <tr>\n",
       "      <th>SYSTEMS ANALYST</th>\n",
       "      <td>56507</td>\n",
       "      <td>56507</td>\n",
       "      <td>56507</td>\n",
       "      <td>56507</td>\n",
       "      <td>56507</td>\n",
       "      <td>56507</td>\n",
       "    </tr>\n",
       "    <tr>\n",
       "      <th>SOFTWARE DEVELOPER</th>\n",
       "      <td>38649</td>\n",
       "      <td>38649</td>\n",
       "      <td>38649</td>\n",
       "      <td>38649</td>\n",
       "      <td>38649</td>\n",
       "      <td>38649</td>\n",
       "    </tr>\n",
       "    <tr>\n",
       "      <th>BUSINESS ANALYST</th>\n",
       "      <td>35872</td>\n",
       "      <td>35872</td>\n",
       "      <td>35872</td>\n",
       "      <td>35872</td>\n",
       "      <td>35872</td>\n",
       "      <td>35872</td>\n",
       "    </tr>\n",
       "    <tr>\n",
       "      <th>COMPUTER SYSTEMS ANALYST</th>\n",
       "      <td>31977</td>\n",
       "      <td>31977</td>\n",
       "      <td>31977</td>\n",
       "      <td>31977</td>\n",
       "      <td>31977</td>\n",
       "      <td>31977</td>\n",
       "    </tr>\n",
       "    <tr>\n",
       "      <th>TECHNOLOGY LEAD - US</th>\n",
       "      <td>28312</td>\n",
       "      <td>28312</td>\n",
       "      <td>28312</td>\n",
       "      <td>28312</td>\n",
       "      <td>28312</td>\n",
       "      <td>28312</td>\n",
       "    </tr>\n",
       "    <tr>\n",
       "      <th>TECHNOLOGY ANALYST - US</th>\n",
       "      <td>26013</td>\n",
       "      <td>26013</td>\n",
       "      <td>26013</td>\n",
       "      <td>26013</td>\n",
       "      <td>26013</td>\n",
       "      <td>26013</td>\n",
       "    </tr>\n",
       "    <tr>\n",
       "      <th>SENIOR SOFTWARE ENGINEER</th>\n",
       "      <td>23862</td>\n",
       "      <td>23862</td>\n",
       "      <td>23862</td>\n",
       "      <td>23862</td>\n",
       "      <td>23862</td>\n",
       "      <td>23862</td>\n",
       "    </tr>\n",
       "    <tr>\n",
       "      <th>SENIOR CONSULTANT</th>\n",
       "      <td>23188</td>\n",
       "      <td>23188</td>\n",
       "      <td>23188</td>\n",
       "      <td>23188</td>\n",
       "      <td>23188</td>\n",
       "      <td>23188</td>\n",
       "    </tr>\n",
       "    <tr>\n",
       "      <th>CONSULTANT</th>\n",
       "      <td>21699</td>\n",
       "      <td>21699</td>\n",
       "      <td>21699</td>\n",
       "      <td>21699</td>\n",
       "      <td>21699</td>\n",
       "      <td>21699</td>\n",
       "    </tr>\n",
       "    <tr>\n",
       "      <th>ASSISTANT PROFESSOR</th>\n",
       "      <td>20863</td>\n",
       "      <td>20863</td>\n",
       "      <td>20863</td>\n",
       "      <td>20863</td>\n",
       "      <td>20863</td>\n",
       "      <td>20863</td>\n",
       "    </tr>\n",
       "    <tr>\n",
       "      <th>PHYSICAL THERAPIST</th>\n",
       "      <td>18298</td>\n",
       "      <td>18298</td>\n",
       "      <td>18298</td>\n",
       "      <td>18298</td>\n",
       "      <td>18298</td>\n",
       "      <td>18298</td>\n",
       "    </tr>\n",
       "    <tr>\n",
       "      <th>PROJECT MANAGER</th>\n",
       "      <td>17573</td>\n",
       "      <td>17573</td>\n",
       "      <td>17573</td>\n",
       "      <td>17573</td>\n",
       "      <td>17573</td>\n",
       "      <td>17573</td>\n",
       "    </tr>\n",
       "    <tr>\n",
       "      <th>DATABASE ADMINISTRATOR</th>\n",
       "      <td>15093</td>\n",
       "      <td>15093</td>\n",
       "      <td>15093</td>\n",
       "      <td>15093</td>\n",
       "      <td>15093</td>\n",
       "      <td>15093</td>\n",
       "    </tr>\n",
       "    <tr>\n",
       "      <th>ACCOUNTANT</th>\n",
       "      <td>12864</td>\n",
       "      <td>12864</td>\n",
       "      <td>12864</td>\n",
       "      <td>12864</td>\n",
       "      <td>12864</td>\n",
       "      <td>12864</td>\n",
       "    </tr>\n",
       "    <tr>\n",
       "      <th>DEVELOPER</th>\n",
       "      <td>12420</td>\n",
       "      <td>12420</td>\n",
       "      <td>12420</td>\n",
       "      <td>12420</td>\n",
       "      <td>12420</td>\n",
       "      <td>12420</td>\n",
       "    </tr>\n",
       "    <tr>\n",
       "      <th>COMPUTER PROGRAMMER ANALYST</th>\n",
       "      <td>12052</td>\n",
       "      <td>12052</td>\n",
       "      <td>12052</td>\n",
       "      <td>12052</td>\n",
       "      <td>12052</td>\n",
       "      <td>12052</td>\n",
       "    </tr>\n",
       "    <tr>\n",
       "      <th>ASSOCIATE</th>\n",
       "      <td>11095</td>\n",
       "      <td>11095</td>\n",
       "      <td>11095</td>\n",
       "      <td>11095</td>\n",
       "      <td>11095</td>\n",
       "      <td>11095</td>\n",
       "    </tr>\n",
       "    <tr>\n",
       "      <th>RESEARCH ASSOCIATE</th>\n",
       "      <td>10950</td>\n",
       "      <td>10950</td>\n",
       "      <td>10950</td>\n",
       "      <td>10950</td>\n",
       "      <td>10950</td>\n",
       "      <td>10950</td>\n",
       "    </tr>\n",
       "    <tr>\n",
       "      <th>ANALYST</th>\n",
       "      <td>10294</td>\n",
       "      <td>10294</td>\n",
       "      <td>10294</td>\n",
       "      <td>10294</td>\n",
       "      <td>10294</td>\n",
       "      <td>10294</td>\n",
       "    </tr>\n",
       "    <tr>\n",
       "      <th>LEAD ENGINEER</th>\n",
       "      <td>10246</td>\n",
       "      <td>10246</td>\n",
       "      <td>10246</td>\n",
       "      <td>10246</td>\n",
       "      <td>10246</td>\n",
       "      <td>10246</td>\n",
       "    </tr>\n",
       "    <tr>\n",
       "      <th>SYSTEMS ENGINEER - US</th>\n",
       "      <td>10023</td>\n",
       "      <td>10023</td>\n",
       "      <td>10023</td>\n",
       "      <td>10023</td>\n",
       "      <td>10023</td>\n",
       "      <td>10023</td>\n",
       "    </tr>\n",
       "    <tr>\n",
       "      <th>COMPUTER SYSTEMS ENGINEER</th>\n",
       "      <td>9447</td>\n",
       "      <td>9447</td>\n",
       "      <td>9447</td>\n",
       "      <td>9447</td>\n",
       "      <td>9447</td>\n",
       "      <td>9447</td>\n",
       "    </tr>\n",
       "    <tr>\n",
       "      <th>SENIOR SOFTWARE DEVELOPER</th>\n",
       "      <td>9116</td>\n",
       "      <td>9116</td>\n",
       "      <td>9116</td>\n",
       "      <td>9116</td>\n",
       "      <td>9116</td>\n",
       "      <td>9116</td>\n",
       "    </tr>\n",
       "    <tr>\n",
       "      <th>BUSINESS SYSTEMS ANALYST</th>\n",
       "      <td>8990</td>\n",
       "      <td>8990</td>\n",
       "      <td>8990</td>\n",
       "      <td>8990</td>\n",
       "      <td>8990</td>\n",
       "      <td>8990</td>\n",
       "    </tr>\n",
       "    <tr>\n",
       "      <th>MANAGER</th>\n",
       "      <td>8307</td>\n",
       "      <td>8307</td>\n",
       "      <td>8307</td>\n",
       "      <td>8307</td>\n",
       "      <td>8307</td>\n",
       "      <td>8307</td>\n",
       "    </tr>\n",
       "    <tr>\n",
       "      <th>MARKET RESEARCH ANALYST</th>\n",
       "      <td>8231</td>\n",
       "      <td>8231</td>\n",
       "      <td>8231</td>\n",
       "      <td>8231</td>\n",
       "      <td>8231</td>\n",
       "      <td>8231</td>\n",
       "    </tr>\n",
       "    <tr>\n",
       "      <th>FINANCIAL ANALYST</th>\n",
       "      <td>7744</td>\n",
       "      <td>7744</td>\n",
       "      <td>7744</td>\n",
       "      <td>7744</td>\n",
       "      <td>7744</td>\n",
       "      <td>7744</td>\n",
       "    </tr>\n",
       "  </tbody>\n",
       "</table>\n",
       "</div>"
      ],
      "text/plain": [
       "                             CASE_STATUS  SOC_NAME  PREVAILING_WAGE  WORKSITE  \\\n",
       "JOB_TITLE                                                                       \n",
       "PROGRAMMER ANALYST                225034    225034           225034    225034   \n",
       "SOFTWARE ENGINEER                 104669    104669           104669    104669   \n",
       "COMPUTER PROGRAMMER                64848     64848            64848     64848   \n",
       "SYSTEMS ANALYST                    56507     56507            56507     56507   \n",
       "SOFTWARE DEVELOPER                 38649     38649            38649     38649   \n",
       "BUSINESS ANALYST                   35872     35872            35872     35872   \n",
       "COMPUTER SYSTEMS ANALYST           31977     31977            31977     31977   \n",
       "TECHNOLOGY LEAD - US               28312     28312            28312     28312   \n",
       "TECHNOLOGY ANALYST - US            26013     26013            26013     26013   \n",
       "SENIOR SOFTWARE ENGINEER           23862     23862            23862     23862   \n",
       "SENIOR CONSULTANT                  23188     23188            23188     23188   \n",
       "CONSULTANT                         21699     21699            21699     21699   \n",
       "ASSISTANT PROFESSOR                20863     20863            20863     20863   \n",
       "PHYSICAL THERAPIST                 18298     18298            18298     18298   \n",
       "PROJECT MANAGER                    17573     17573            17573     17573   \n",
       "DATABASE ADMINISTRATOR             15093     15093            15093     15093   \n",
       "ACCOUNTANT                         12864     12864            12864     12864   \n",
       "DEVELOPER                          12420     12420            12420     12420   \n",
       "COMPUTER PROGRAMMER ANALYST        12052     12052            12052     12052   \n",
       "ASSOCIATE                          11095     11095            11095     11095   \n",
       "RESEARCH ASSOCIATE                 10950     10950            10950     10950   \n",
       "ANALYST                            10294     10294            10294     10294   \n",
       "LEAD ENGINEER                      10246     10246            10246     10246   \n",
       "SYSTEMS ENGINEER - US              10023     10023            10023     10023   \n",
       "COMPUTER SYSTEMS ENGINEER           9447      9447             9447      9447   \n",
       "SENIOR SOFTWARE DEVELOPER           9116      9116             9116      9116   \n",
       "BUSINESS SYSTEMS ANALYST            8990      8990             8990      8990   \n",
       "MANAGER                             8307      8307             8307      8307   \n",
       "MARKET RESEARCH ANALYST             8231      8231             8231      8231   \n",
       "FINANCIAL ANALYST                   7744      7744             7744      7744   \n",
       "\n",
       "                             FULL_TIME_POSITION_Y  frequency_job_title  \n",
       "JOB_TITLE                                                               \n",
       "PROGRAMMER ANALYST                         225034               225034  \n",
       "SOFTWARE ENGINEER                          104669               104669  \n",
       "COMPUTER PROGRAMMER                         64848                64848  \n",
       "SYSTEMS ANALYST                             56507                56507  \n",
       "SOFTWARE DEVELOPER                          38649                38649  \n",
       "BUSINESS ANALYST                            35872                35872  \n",
       "COMPUTER SYSTEMS ANALYST                    31977                31977  \n",
       "TECHNOLOGY LEAD - US                        28312                28312  \n",
       "TECHNOLOGY ANALYST - US                     26013                26013  \n",
       "SENIOR SOFTWARE ENGINEER                    23862                23862  \n",
       "SENIOR CONSULTANT                           23188                23188  \n",
       "CONSULTANT                                  21699                21699  \n",
       "ASSISTANT PROFESSOR                         20863                20863  \n",
       "PHYSICAL THERAPIST                          18298                18298  \n",
       "PROJECT MANAGER                             17573                17573  \n",
       "DATABASE ADMINISTRATOR                      15093                15093  \n",
       "ACCOUNTANT                                  12864                12864  \n",
       "DEVELOPER                                   12420                12420  \n",
       "COMPUTER PROGRAMMER ANALYST                 12052                12052  \n",
       "ASSOCIATE                                   11095                11095  \n",
       "RESEARCH ASSOCIATE                          10950                10950  \n",
       "ANALYST                                     10294                10294  \n",
       "LEAD ENGINEER                               10246                10246  \n",
       "SYSTEMS ENGINEER - US                       10023                10023  \n",
       "COMPUTER SYSTEMS ENGINEER                    9447                 9447  \n",
       "SENIOR SOFTWARE DEVELOPER                    9116                 9116  \n",
       "BUSINESS SYSTEMS ANALYST                     8990                 8990  \n",
       "MANAGER                                      8307                 8307  \n",
       "MARKET RESEARCH ANALYST                      8231                 8231  \n",
       "FINANCIAL ANALYST                            7744                 7744  "
      ]
     },
     "execution_count": 122,
     "metadata": {},
     "output_type": "execute_result"
    }
   ],
   "source": [
    "df2"
   ]
  },
  {
   "cell_type": "markdown",
   "metadata": {},
   "source": [
    "#### Save top 30 job titles in an array"
   ]
  },
  {
   "cell_type": "code",
   "execution_count": 123,
   "metadata": {
    "collapsed": true
   },
   "outputs": [],
   "source": [
    "top_jobs = df2.index.tolist()"
   ]
  },
  {
   "cell_type": "code",
   "execution_count": 124,
   "metadata": {},
   "outputs": [
    {
     "data": {
      "text/plain": [
       "['PROGRAMMER ANALYST',\n",
       " 'SOFTWARE ENGINEER',\n",
       " 'COMPUTER PROGRAMMER',\n",
       " 'SYSTEMS ANALYST',\n",
       " 'SOFTWARE DEVELOPER',\n",
       " 'BUSINESS ANALYST',\n",
       " 'COMPUTER SYSTEMS ANALYST',\n",
       " 'TECHNOLOGY LEAD - US',\n",
       " 'TECHNOLOGY ANALYST - US',\n",
       " 'SENIOR SOFTWARE ENGINEER',\n",
       " 'SENIOR CONSULTANT',\n",
       " 'CONSULTANT',\n",
       " 'ASSISTANT PROFESSOR',\n",
       " 'PHYSICAL THERAPIST',\n",
       " 'PROJECT MANAGER',\n",
       " 'DATABASE ADMINISTRATOR',\n",
       " 'ACCOUNTANT',\n",
       " 'DEVELOPER',\n",
       " 'COMPUTER PROGRAMMER ANALYST',\n",
       " 'ASSOCIATE',\n",
       " 'RESEARCH ASSOCIATE',\n",
       " 'ANALYST',\n",
       " 'LEAD ENGINEER',\n",
       " 'SYSTEMS ENGINEER - US',\n",
       " 'COMPUTER SYSTEMS ENGINEER',\n",
       " 'SENIOR SOFTWARE DEVELOPER',\n",
       " 'BUSINESS SYSTEMS ANALYST',\n",
       " 'MANAGER',\n",
       " 'MARKET RESEARCH ANALYST',\n",
       " 'FINANCIAL ANALYST']"
      ]
     },
     "execution_count": 124,
     "metadata": {},
     "output_type": "execute_result"
    }
   ],
   "source": [
    "top_jobs"
   ]
  },
  {
   "cell_type": "code",
   "execution_count": 125,
   "metadata": {},
   "outputs": [
    {
     "name": "stdout",
     "output_type": "stream",
     "text": [
      "<class 'pandas.core.frame.DataFrame'>\n",
      "Int64Index: 2690618 entries, 18 to 3002392\n",
      "Data columns (total 7 columns):\n",
      "CASE_STATUS             int64\n",
      "SOC_NAME                object\n",
      "JOB_TITLE               object\n",
      "PREVAILING_WAGE         float64\n",
      "WORKSITE                object\n",
      "FULL_TIME_POSITION_Y    uint8\n",
      "frequency_job_title     int64\n",
      "dtypes: float64(1), int64(2), object(3), uint8(1)\n",
      "memory usage: 146.3+ MB\n"
     ]
    }
   ],
   "source": [
    "df.info()"
   ]
  },
  {
   "cell_type": "code",
   "execution_count": 126,
   "metadata": {
    "collapsed": true
   },
   "outputs": [],
   "source": [
    "# Keep only top jobs in dataframe\n",
    "df3 = df\n",
    "df3 = df3[df3['JOB_TITLE'].apply(lambda x : x in top_jobs)]"
   ]
  },
  {
   "cell_type": "code",
   "execution_count": 127,
   "metadata": {},
   "outputs": [
    {
     "name": "stdout",
     "output_type": "stream",
     "text": [
      "<class 'pandas.core.frame.DataFrame'>\n",
      "Int64Index: 894236 entries, 728 to 3002378\n",
      "Data columns (total 7 columns):\n",
      "CASE_STATUS             894236 non-null int64\n",
      "SOC_NAME                894236 non-null object\n",
      "JOB_TITLE               894236 non-null object\n",
      "PREVAILING_WAGE         894236 non-null float64\n",
      "WORKSITE                894236 non-null object\n",
      "FULL_TIME_POSITION_Y    894236 non-null uint8\n",
      "frequency_job_title     894236 non-null int64\n",
      "dtypes: float64(1), int64(2), object(3), uint8(1)\n",
      "memory usage: 48.6+ MB\n"
     ]
    }
   ],
   "source": [
    "df3.info()"
   ]
  },
  {
   "cell_type": "code",
   "execution_count": 128,
   "metadata": {},
   "outputs": [
    {
     "data": {
      "text/html": [
       "<div>\n",
       "<style>\n",
       "    .dataframe thead tr:only-child th {\n",
       "        text-align: right;\n",
       "    }\n",
       "\n",
       "    .dataframe thead th {\n",
       "        text-align: left;\n",
       "    }\n",
       "\n",
       "    .dataframe tbody tr th {\n",
       "        vertical-align: top;\n",
       "    }\n",
       "</style>\n",
       "<table border=\"1\" class=\"dataframe\">\n",
       "  <thead>\n",
       "    <tr style=\"text-align: right;\">\n",
       "      <th></th>\n",
       "      <th>CASE_STATUS</th>\n",
       "      <th>SOC_NAME</th>\n",
       "      <th>JOB_TITLE</th>\n",
       "      <th>PREVAILING_WAGE</th>\n",
       "      <th>WORKSITE</th>\n",
       "      <th>FULL_TIME_POSITION_Y</th>\n",
       "      <th>frequency_job_title</th>\n",
       "    </tr>\n",
       "  </thead>\n",
       "  <tbody>\n",
       "    <tr>\n",
       "      <th>728</th>\n",
       "      <td>1</td>\n",
       "      <td>MANAGERS</td>\n",
       "      <td>PROJECT MANAGER</td>\n",
       "      <td>167024.0</td>\n",
       "      <td>COLORADO</td>\n",
       "      <td>1</td>\n",
       "      <td>17573</td>\n",
       "    </tr>\n",
       "    <tr>\n",
       "      <th>737</th>\n",
       "      <td>1</td>\n",
       "      <td>MANAGERS</td>\n",
       "      <td>PROJECT MANAGER</td>\n",
       "      <td>167024.0</td>\n",
       "      <td>COLORADO</td>\n",
       "      <td>1</td>\n",
       "      <td>17573</td>\n",
       "    </tr>\n",
       "    <tr>\n",
       "      <th>916</th>\n",
       "      <td>0</td>\n",
       "      <td>MANAGERS</td>\n",
       "      <td>MANAGER</td>\n",
       "      <td>57033.6</td>\n",
       "      <td>CALIFORNIA</td>\n",
       "      <td>0</td>\n",
       "      <td>8307</td>\n",
       "    </tr>\n",
       "    <tr>\n",
       "      <th>922</th>\n",
       "      <td>1</td>\n",
       "      <td>MANAGERS</td>\n",
       "      <td>PROJECT MANAGER</td>\n",
       "      <td>69514.0</td>\n",
       "      <td>FLORIDA</td>\n",
       "      <td>0</td>\n",
       "      <td>17573</td>\n",
       "    </tr>\n",
       "    <tr>\n",
       "      <th>947</th>\n",
       "      <td>1</td>\n",
       "      <td>MANAGERS</td>\n",
       "      <td>MANAGER</td>\n",
       "      <td>57033.6</td>\n",
       "      <td>CALIFORNIA</td>\n",
       "      <td>0</td>\n",
       "      <td>8307</td>\n",
       "    </tr>\n",
       "  </tbody>\n",
       "</table>\n",
       "</div>"
      ],
      "text/plain": [
       "     CASE_STATUS  SOC_NAME        JOB_TITLE  PREVAILING_WAGE    WORKSITE  \\\n",
       "728            1  MANAGERS  PROJECT MANAGER         167024.0    COLORADO   \n",
       "737            1  MANAGERS  PROJECT MANAGER         167024.0    COLORADO   \n",
       "916            0  MANAGERS          MANAGER          57033.6  CALIFORNIA   \n",
       "922            1  MANAGERS  PROJECT MANAGER          69514.0     FLORIDA   \n",
       "947            1  MANAGERS          MANAGER          57033.6  CALIFORNIA   \n",
       "\n",
       "     FULL_TIME_POSITION_Y  frequency_job_title  \n",
       "728                     1                17573  \n",
       "737                     1                17573  \n",
       "916                     0                 8307  \n",
       "922                     0                17573  \n",
       "947                     0                 8307  "
      ]
     },
     "execution_count": 128,
     "metadata": {},
     "output_type": "execute_result"
    }
   ],
   "source": [
    "df3.head()"
   ]
  },
  {
   "cell_type": "code",
   "execution_count": 129,
   "metadata": {},
   "outputs": [
    {
     "name": "stderr",
     "output_type": "stream",
     "text": [
      "C:\\ProgramData\\Miniconda3\\lib\\site-packages\\ipykernel_launcher.py:2: SettingWithCopyWarning: \n",
      "A value is trying to be set on a copy of a slice from a DataFrame\n",
      "\n",
      "See the caveats in the documentation: http://pandas.pydata.org/pandas-docs/stable/indexing.html#indexing-view-versus-copy\n",
      "  \n"
     ]
    }
   ],
   "source": [
    "# Drop freauency as we don't need it anymore\n",
    "df3.drop('frequency_job_title', axis=1, inplace=True)"
   ]
  },
  {
   "cell_type": "code",
   "execution_count": 130,
   "metadata": {},
   "outputs": [
    {
     "data": {
      "text/html": [
       "<div>\n",
       "<style>\n",
       "    .dataframe thead tr:only-child th {\n",
       "        text-align: right;\n",
       "    }\n",
       "\n",
       "    .dataframe thead th {\n",
       "        text-align: left;\n",
       "    }\n",
       "\n",
       "    .dataframe tbody tr th {\n",
       "        vertical-align: top;\n",
       "    }\n",
       "</style>\n",
       "<table border=\"1\" class=\"dataframe\">\n",
       "  <thead>\n",
       "    <tr style=\"text-align: right;\">\n",
       "      <th></th>\n",
       "      <th>CASE_STATUS</th>\n",
       "      <th>SOC_NAME</th>\n",
       "      <th>JOB_TITLE</th>\n",
       "      <th>PREVAILING_WAGE</th>\n",
       "      <th>WORKSITE</th>\n",
       "      <th>FULL_TIME_POSITION_Y</th>\n",
       "    </tr>\n",
       "  </thead>\n",
       "  <tbody>\n",
       "    <tr>\n",
       "      <th>728</th>\n",
       "      <td>1</td>\n",
       "      <td>MANAGERS</td>\n",
       "      <td>PROJECT MANAGER</td>\n",
       "      <td>167024.0</td>\n",
       "      <td>COLORADO</td>\n",
       "      <td>1</td>\n",
       "    </tr>\n",
       "    <tr>\n",
       "      <th>737</th>\n",
       "      <td>1</td>\n",
       "      <td>MANAGERS</td>\n",
       "      <td>PROJECT MANAGER</td>\n",
       "      <td>167024.0</td>\n",
       "      <td>COLORADO</td>\n",
       "      <td>1</td>\n",
       "    </tr>\n",
       "    <tr>\n",
       "      <th>916</th>\n",
       "      <td>0</td>\n",
       "      <td>MANAGERS</td>\n",
       "      <td>MANAGER</td>\n",
       "      <td>57033.6</td>\n",
       "      <td>CALIFORNIA</td>\n",
       "      <td>0</td>\n",
       "    </tr>\n",
       "    <tr>\n",
       "      <th>922</th>\n",
       "      <td>1</td>\n",
       "      <td>MANAGERS</td>\n",
       "      <td>PROJECT MANAGER</td>\n",
       "      <td>69514.0</td>\n",
       "      <td>FLORIDA</td>\n",
       "      <td>0</td>\n",
       "    </tr>\n",
       "    <tr>\n",
       "      <th>947</th>\n",
       "      <td>1</td>\n",
       "      <td>MANAGERS</td>\n",
       "      <td>MANAGER</td>\n",
       "      <td>57033.6</td>\n",
       "      <td>CALIFORNIA</td>\n",
       "      <td>0</td>\n",
       "    </tr>\n",
       "  </tbody>\n",
       "</table>\n",
       "</div>"
      ],
      "text/plain": [
       "     CASE_STATUS  SOC_NAME        JOB_TITLE  PREVAILING_WAGE    WORKSITE  \\\n",
       "728            1  MANAGERS  PROJECT MANAGER         167024.0    COLORADO   \n",
       "737            1  MANAGERS  PROJECT MANAGER         167024.0    COLORADO   \n",
       "916            0  MANAGERS          MANAGER          57033.6  CALIFORNIA   \n",
       "922            1  MANAGERS  PROJECT MANAGER          69514.0     FLORIDA   \n",
       "947            1  MANAGERS          MANAGER          57033.6  CALIFORNIA   \n",
       "\n",
       "     FULL_TIME_POSITION_Y  \n",
       "728                     1  \n",
       "737                     1  \n",
       "916                     0  \n",
       "922                     0  \n",
       "947                     0  "
      ]
     },
     "execution_count": 130,
     "metadata": {},
     "output_type": "execute_result"
    }
   ],
   "source": [
    "df3.head()"
   ]
  },
  {
   "cell_type": "code",
   "execution_count": 131,
   "metadata": {
    "collapsed": true
   },
   "outputs": [],
   "source": [
    "from sklearn import preprocessing"
   ]
  },
  {
   "cell_type": "code",
   "execution_count": 132,
   "metadata": {
    "collapsed": true
   },
   "outputs": [],
   "source": [
    "# Get dummies of columns to prepare data for machine learning\n",
    "df3 = pd.get_dummies(df3, columns=['JOB_TITLE', 'WORKSITE', 'SOC_NAME'])"
   ]
  },
  {
   "cell_type": "code",
   "execution_count": 133,
   "metadata": {},
   "outputs": [
    {
     "data": {
      "text/html": [
       "<div>\n",
       "<style>\n",
       "    .dataframe thead tr:only-child th {\n",
       "        text-align: right;\n",
       "    }\n",
       "\n",
       "    .dataframe thead th {\n",
       "        text-align: left;\n",
       "    }\n",
       "\n",
       "    .dataframe tbody tr th {\n",
       "        vertical-align: top;\n",
       "    }\n",
       "</style>\n",
       "<table border=\"1\" class=\"dataframe\">\n",
       "  <thead>\n",
       "    <tr style=\"text-align: right;\">\n",
       "      <th></th>\n",
       "      <th>CASE_STATUS</th>\n",
       "      <th>PREVAILING_WAGE</th>\n",
       "      <th>FULL_TIME_POSITION_Y</th>\n",
       "      <th>JOB_TITLE_ACCOUNTANT</th>\n",
       "      <th>JOB_TITLE_ANALYST</th>\n",
       "      <th>JOB_TITLE_ASSISTANT PROFESSOR</th>\n",
       "      <th>JOB_TITLE_ASSOCIATE</th>\n",
       "      <th>JOB_TITLE_BUSINESS ANALYST</th>\n",
       "      <th>JOB_TITLE_BUSINESS SYSTEMS ANALYST</th>\n",
       "      <th>JOB_TITLE_COMPUTER PROGRAMMER</th>\n",
       "      <th>...</th>\n",
       "      <th>SOC_NAME_EXECUTIVES</th>\n",
       "      <th>SOC_NAME_FINANCE</th>\n",
       "      <th>SOC_NAME_GEOLOGIST</th>\n",
       "      <th>SOC_NAME_MANAGERS</th>\n",
       "      <th>SOC_NAME_MEDICAL</th>\n",
       "      <th>SOC_NAME_MEDICINE-OTHERS</th>\n",
       "      <th>SOC_NAME_OTHER</th>\n",
       "      <th>SOC_NAME_SALES &amp; MARKETING</th>\n",
       "      <th>SOC_NAME_SCIENTIST</th>\n",
       "      <th>SOC_NAME_STATISTICIAN</th>\n",
       "    </tr>\n",
       "  </thead>\n",
       "  <tbody>\n",
       "    <tr>\n",
       "      <th>728</th>\n",
       "      <td>1</td>\n",
       "      <td>167024.0</td>\n",
       "      <td>1</td>\n",
       "      <td>0</td>\n",
       "      <td>0</td>\n",
       "      <td>0</td>\n",
       "      <td>0</td>\n",
       "      <td>0</td>\n",
       "      <td>0</td>\n",
       "      <td>0</td>\n",
       "      <td>...</td>\n",
       "      <td>0</td>\n",
       "      <td>0</td>\n",
       "      <td>0</td>\n",
       "      <td>1</td>\n",
       "      <td>0</td>\n",
       "      <td>0</td>\n",
       "      <td>0</td>\n",
       "      <td>0</td>\n",
       "      <td>0</td>\n",
       "      <td>0</td>\n",
       "    </tr>\n",
       "    <tr>\n",
       "      <th>737</th>\n",
       "      <td>1</td>\n",
       "      <td>167024.0</td>\n",
       "      <td>1</td>\n",
       "      <td>0</td>\n",
       "      <td>0</td>\n",
       "      <td>0</td>\n",
       "      <td>0</td>\n",
       "      <td>0</td>\n",
       "      <td>0</td>\n",
       "      <td>0</td>\n",
       "      <td>...</td>\n",
       "      <td>0</td>\n",
       "      <td>0</td>\n",
       "      <td>0</td>\n",
       "      <td>1</td>\n",
       "      <td>0</td>\n",
       "      <td>0</td>\n",
       "      <td>0</td>\n",
       "      <td>0</td>\n",
       "      <td>0</td>\n",
       "      <td>0</td>\n",
       "    </tr>\n",
       "    <tr>\n",
       "      <th>916</th>\n",
       "      <td>0</td>\n",
       "      <td>57033.6</td>\n",
       "      <td>0</td>\n",
       "      <td>0</td>\n",
       "      <td>0</td>\n",
       "      <td>0</td>\n",
       "      <td>0</td>\n",
       "      <td>0</td>\n",
       "      <td>0</td>\n",
       "      <td>0</td>\n",
       "      <td>...</td>\n",
       "      <td>0</td>\n",
       "      <td>0</td>\n",
       "      <td>0</td>\n",
       "      <td>1</td>\n",
       "      <td>0</td>\n",
       "      <td>0</td>\n",
       "      <td>0</td>\n",
       "      <td>0</td>\n",
       "      <td>0</td>\n",
       "      <td>0</td>\n",
       "    </tr>\n",
       "    <tr>\n",
       "      <th>922</th>\n",
       "      <td>1</td>\n",
       "      <td>69514.0</td>\n",
       "      <td>0</td>\n",
       "      <td>0</td>\n",
       "      <td>0</td>\n",
       "      <td>0</td>\n",
       "      <td>0</td>\n",
       "      <td>0</td>\n",
       "      <td>0</td>\n",
       "      <td>0</td>\n",
       "      <td>...</td>\n",
       "      <td>0</td>\n",
       "      <td>0</td>\n",
       "      <td>0</td>\n",
       "      <td>1</td>\n",
       "      <td>0</td>\n",
       "      <td>0</td>\n",
       "      <td>0</td>\n",
       "      <td>0</td>\n",
       "      <td>0</td>\n",
       "      <td>0</td>\n",
       "    </tr>\n",
       "    <tr>\n",
       "      <th>947</th>\n",
       "      <td>1</td>\n",
       "      <td>57033.6</td>\n",
       "      <td>0</td>\n",
       "      <td>0</td>\n",
       "      <td>0</td>\n",
       "      <td>0</td>\n",
       "      <td>0</td>\n",
       "      <td>0</td>\n",
       "      <td>0</td>\n",
       "      <td>0</td>\n",
       "      <td>...</td>\n",
       "      <td>0</td>\n",
       "      <td>0</td>\n",
       "      <td>0</td>\n",
       "      <td>1</td>\n",
       "      <td>0</td>\n",
       "      <td>0</td>\n",
       "      <td>0</td>\n",
       "      <td>0</td>\n",
       "      <td>0</td>\n",
       "      <td>0</td>\n",
       "    </tr>\n",
       "  </tbody>\n",
       "</table>\n",
       "<p>5 rows × 104 columns</p>\n",
       "</div>"
      ],
      "text/plain": [
       "     CASE_STATUS  PREVAILING_WAGE  FULL_TIME_POSITION_Y  JOB_TITLE_ACCOUNTANT  \\\n",
       "728            1         167024.0                     1                     0   \n",
       "737            1         167024.0                     1                     0   \n",
       "916            0          57033.6                     0                     0   \n",
       "922            1          69514.0                     0                     0   \n",
       "947            1          57033.6                     0                     0   \n",
       "\n",
       "     JOB_TITLE_ANALYST  JOB_TITLE_ASSISTANT PROFESSOR  JOB_TITLE_ASSOCIATE  \\\n",
       "728                  0                              0                    0   \n",
       "737                  0                              0                    0   \n",
       "916                  0                              0                    0   \n",
       "922                  0                              0                    0   \n",
       "947                  0                              0                    0   \n",
       "\n",
       "     JOB_TITLE_BUSINESS ANALYST  JOB_TITLE_BUSINESS SYSTEMS ANALYST  \\\n",
       "728                           0                                   0   \n",
       "737                           0                                   0   \n",
       "916                           0                                   0   \n",
       "922                           0                                   0   \n",
       "947                           0                                   0   \n",
       "\n",
       "     JOB_TITLE_COMPUTER PROGRAMMER          ...            \\\n",
       "728                              0          ...             \n",
       "737                              0          ...             \n",
       "916                              0          ...             \n",
       "922                              0          ...             \n",
       "947                              0          ...             \n",
       "\n",
       "     SOC_NAME_EXECUTIVES  SOC_NAME_FINANCE  SOC_NAME_GEOLOGIST  \\\n",
       "728                    0                 0                   0   \n",
       "737                    0                 0                   0   \n",
       "916                    0                 0                   0   \n",
       "922                    0                 0                   0   \n",
       "947                    0                 0                   0   \n",
       "\n",
       "     SOC_NAME_MANAGERS  SOC_NAME_MEDICAL  SOC_NAME_MEDICINE-OTHERS  \\\n",
       "728                  1                 0                         0   \n",
       "737                  1                 0                         0   \n",
       "916                  1                 0                         0   \n",
       "922                  1                 0                         0   \n",
       "947                  1                 0                         0   \n",
       "\n",
       "     SOC_NAME_OTHER  SOC_NAME_SALES & MARKETING  SOC_NAME_SCIENTIST  \\\n",
       "728               0                           0                   0   \n",
       "737               0                           0                   0   \n",
       "916               0                           0                   0   \n",
       "922               0                           0                   0   \n",
       "947               0                           0                   0   \n",
       "\n",
       "     SOC_NAME_STATISTICIAN  \n",
       "728                      0  \n",
       "737                      0  \n",
       "916                      0  \n",
       "922                      0  \n",
       "947                      0  \n",
       "\n",
       "[5 rows x 104 columns]"
      ]
     },
     "execution_count": 133,
     "metadata": {},
     "output_type": "execute_result"
    }
   ],
   "source": [
    "df3.head() #View our data"
   ]
  },
  {
   "cell_type": "markdown",
   "metadata": {},
   "source": [
    "#### Normalize wage by dividing it with mean"
   ]
  },
  {
   "cell_type": "code",
   "execution_count": 134,
   "metadata": {
    "collapsed": true
   },
   "outputs": [],
   "source": [
    "wage_mean = df3['PREVAILING_WAGE'].mean()\n",
    "df3['PREVAILING_WAGE'] = df3['PREVAILING_WAGE'].apply(lambda x : x/wage_mean)"
   ]
  },
  {
   "cell_type": "markdown",
   "metadata": {},
   "source": [
    "#### Take only 100,000 positive values and all negative values to balance the data (As the data is imbalanced)"
   ]
  },
  {
   "cell_type": "code",
   "execution_count": 135,
   "metadata": {
    "collapsed": true
   },
   "outputs": [],
   "source": [
    "df_zeros = df3.loc[df3['CASE_STATUS'] == 0]\n",
    "df_ones = df3.loc[df3['CASE_STATUS'] == 1].sample(n=100000, random_state=25)\n",
    "frames = [df_zeros, df_ones]\n",
    "result = pd.concat(frames)"
   ]
  },
  {
   "cell_type": "markdown",
   "metadata": {},
   "source": [
    "#### Run Sklearn to get a measure for comparison"
   ]
  },
  {
   "cell_type": "code",
   "execution_count": 136,
   "metadata": {},
   "outputs": [
    {
     "name": "stderr",
     "output_type": "stream",
     "text": [
      "C:\\ProgramData\\Miniconda3\\lib\\site-packages\\ipykernel_launcher.py:1: DeprecationWarning: \n",
      ".ix is deprecated. Please use\n",
      ".loc for label based indexing or\n",
      ".iloc for positional indexing\n",
      "\n",
      "See the documentation here:\n",
      "http://pandas.pydata.org/pandas-docs/stable/indexing.html#deprecate_ix\n",
      "  \"\"\"Entry point for launching an IPython kernel.\n"
     ]
    }
   ],
   "source": [
    "X = result.ix[:,1:].values"
   ]
  },
  {
   "cell_type": "code",
   "execution_count": 137,
   "metadata": {
    "collapsed": true
   },
   "outputs": [],
   "source": [
    "y = result.ix[:,0].values"
   ]
  },
  {
   "cell_type": "code",
   "execution_count": 138,
   "metadata": {
    "collapsed": true
   },
   "outputs": [],
   "source": [
    "# Normalize data as a part of trial and error to improve efficiency\n",
    "normalized_X = preprocessing.normalize(X)"
   ]
  },
  {
   "cell_type": "code",
   "execution_count": 139,
   "metadata": {
    "collapsed": true
   },
   "outputs": [],
   "source": [
    "from sklearn.model_selection import train_test_split\n",
    "X_train, X_test, y_train, y_test = train_test_split(normalized_X, y, test_size = .3)"
   ]
  },
  {
   "cell_type": "code",
   "execution_count": 140,
   "metadata": {},
   "outputs": [
    {
     "data": {
      "text/plain": [
       "LogisticRegression(C=1.0, class_weight=None, dual=False, fit_intercept=True,\n",
       "          intercept_scaling=1, max_iter=100, multi_class='ovr', n_jobs=1,\n",
       "          penalty='l2', random_state=None, solver='liblinear', tol=0.0001,\n",
       "          verbose=0, warm_start=False)"
      ]
     },
     "execution_count": 140,
     "metadata": {},
     "output_type": "execute_result"
    }
   ],
   "source": [
    "from sklearn.linear_model import LogisticRegression\n",
    "LogReg = LogisticRegression()\n",
    "LogReg.fit(X_train, y_train)"
   ]
  },
  {
   "cell_type": "code",
   "execution_count": 141,
   "metadata": {
    "collapsed": true
   },
   "outputs": [],
   "source": [
    "y_pred = LogReg.predict(X_test)"
   ]
  },
  {
   "cell_type": "code",
   "execution_count": 142,
   "metadata": {},
   "outputs": [
    {
     "data": {
      "text/plain": [
       "array([[ 1073,  4865],\n",
       "       [  680, 29314]])"
      ]
     },
     "execution_count": 142,
     "metadata": {},
     "output_type": "execute_result"
    }
   ],
   "source": [
    "from sklearn.metrics import confusion_matrix\n",
    "confusion_matrix = confusion_matrix(y_test, y_pred)\n",
    "confusion_matrix"
   ]
  },
  {
   "cell_type": "code",
   "execution_count": 143,
   "metadata": {},
   "outputs": [
    {
     "name": "stdout",
     "output_type": "stream",
     "text": [
      "             precision    recall  f1-score   support\n",
      "\n",
      "          0       0.61      0.18      0.28      5938\n",
      "          1       0.86      0.98      0.91     29994\n",
      "\n",
      "avg / total       0.82      0.85      0.81     35932\n",
      "\n"
     ]
    }
   ],
   "source": [
    "from sklearn.metrics import classification_report\n",
    "print(classification_report(y_test, y_pred))"
   ]
  },
  {
   "cell_type": "markdown",
   "metadata": {
    "collapsed": true
   },
   "source": [
    "#### Note - We ran Logistic Regression on Spark to get accuracy and found out that though this data has more precision, Recall is low for negative cases which is not a good model, so we decided to not go ahead with this model"
   ]
  },
  {
   "cell_type": "code",
   "execution_count": 144,
   "metadata": {
    "collapsed": true
   },
   "outputs": [],
   "source": [
    "result.to_csv('h1btest.csv')"
   ]
  },
  {
   "cell_type": "code",
   "execution_count": null,
   "metadata": {
    "collapsed": true
   },
   "outputs": [],
   "source": []
  }
 ],
 "metadata": {
  "kernelspec": {
   "display_name": "Python 3",
   "language": "python",
   "name": "python3"
  },
  "language_info": {
   "codemirror_mode": {
    "name": "ipython",
    "version": 3
   },
   "file_extension": ".py",
   "mimetype": "text/x-python",
   "name": "python",
   "nbconvert_exporter": "python",
   "pygments_lexer": "ipython3",
   "version": "3.6.1"
  }
 },
 "nbformat": 4,
 "nbformat_minor": 2
}
